{
  "nbformat": 4,
  "nbformat_minor": 0,
  "metadata": {
    "colab": {
      "provenance": [],
      "authorship_tag": "ABX9TyMulZ+2vWFmSyBJsGSSY3Zu",
      "include_colab_link": true
    },
    "kernelspec": {
      "name": "python3",
      "display_name": "Python 3"
    },
    "language_info": {
      "name": "python"
    }
  },
  "cells": [
    {
      "cell_type": "markdown",
      "metadata": {
        "id": "view-in-github",
        "colab_type": "text"
      },
      "source": [
        "<a href=\"https://colab.research.google.com/github/a-prashar/Interview-query/blob/main/Practice_Functions.ipynb\" target=\"_parent\"><img src=\"https://colab.research.google.com/assets/colab-badge.svg\" alt=\"Open In Colab\"/></a>"
      ]
    },
    {
      "cell_type": "code",
      "execution_count": 1,
      "metadata": {
        "id": "PKiW1uzUTm5Q"
      },
      "outputs": [],
      "source": [
        "## pip install pyspark\n",
        "!pip install -q pyspark\n",
        "\n",
        "## Creating Spark Sessions\n",
        "from pyspark.sql import SparkSession\n",
        "spark= SparkSession.builder.appName(\"test-app\").getOrCreate()"
      ]
    },
    {
      "cell_type": "code",
      "source": [
        "from pyspark.sql.functions import *\n",
        "from pyspark.sql.types import ArrayType, IntegerType, StringType, StructField, StructType"
      ],
      "metadata": {
        "id": "3autWo37VH6J"
      },
      "execution_count": 43,
      "outputs": []
    },
    {
      "cell_type": "code",
      "source": [
        "data = [(\"anupama\",1),(\"akkki\", 34)]\n",
        "schema = ['name' , 'number']"
      ],
      "metadata": {
        "id": "rlBcTT7wTptY"
      },
      "execution_count": 15,
      "outputs": []
    },
    {
      "cell_type": "code",
      "source": [
        "df= spark.createDataFrame(data,schema)"
      ],
      "metadata": {
        "id": "73GAiwrKT-sH"
      },
      "execution_count": 16,
      "outputs": []
    },
    {
      "cell_type": "code",
      "source": [
        "df.show()"
      ],
      "metadata": {
        "colab": {
          "base_uri": "https://localhost:8080/"
        },
        "id": "7qbnkbojUCr1",
        "outputId": "e50095ea-3c5c-4462-9b83-f34ff824e189"
      },
      "execution_count": 17,
      "outputs": [
        {
          "output_type": "stream",
          "name": "stdout",
          "text": [
            "+-------+------+\n",
            "|   name|number|\n",
            "+-------+------+\n",
            "|anupama|     1|\n",
            "|  akkki|    34|\n",
            "+-------+------+\n",
            "\n"
          ]
        }
      ]
    },
    {
      "cell_type": "code",
      "source": [
        "df.printSchema()"
      ],
      "metadata": {
        "colab": {
          "base_uri": "https://localhost:8080/"
        },
        "id": "ipkGYly7UEPw",
        "outputId": "1e2888bd-1f8a-4083-cc7a-eb4199daee35"
      },
      "execution_count": 18,
      "outputs": [
        {
          "output_type": "stream",
          "name": "stdout",
          "text": [
            "root\n",
            " |-- name: string (nullable = true)\n",
            " |-- number: long (nullable = true)\n",
            "\n"
          ]
        }
      ]
    },
    {
      "cell_type": "code",
      "source": [
        "data1 = [(\"anupama\",[10,20,30]),(\"akkki\", [34,44,54])]\n",
        "schema1 = ['name' , 'number']"
      ],
      "metadata": {
        "id": "5Q885LLLUISz"
      },
      "execution_count": 21,
      "outputs": []
    },
    {
      "cell_type": "code",
      "source": [
        "df1= spark.createDataFrame(data1,schema1)"
      ],
      "metadata": {
        "id": "MCn-4tZVUtX3"
      },
      "execution_count": 22,
      "outputs": []
    },
    {
      "cell_type": "code",
      "source": [
        "df1.show()"
      ],
      "metadata": {
        "colab": {
          "base_uri": "https://localhost:8080/"
        },
        "id": "nzJamm-qU0BJ",
        "outputId": "1669bfd4-ea1e-4c20-c7dc-b9ebe4957efb"
      },
      "execution_count": 23,
      "outputs": [
        {
          "output_type": "stream",
          "name": "stdout",
          "text": [
            "+-------+------------+\n",
            "|   name|      number|\n",
            "+-------+------------+\n",
            "|anupama|[10, 20, 30]|\n",
            "|  akkki|[34, 44, 54]|\n",
            "+-------+------------+\n",
            "\n"
          ]
        }
      ]
    },
    {
      "cell_type": "code",
      "source": [
        "df11= df1.withColumn(\"first_num\",df1.number[0]).\\\n",
        "withColumn(\"second_num\",col('number')[1])"
      ],
      "metadata": {
        "id": "SO5y5ivNU1NB"
      },
      "execution_count": 40,
      "outputs": []
    },
    {
      "cell_type": "code",
      "source": [
        "df11.show()"
      ],
      "metadata": {
        "colab": {
          "base_uri": "https://localhost:8080/"
        },
        "id": "BMoxytBIYIKy",
        "outputId": "b6d0f252-523f-4103-c207-60eeb303c2c4"
      },
      "execution_count": 41,
      "outputs": [
        {
          "output_type": "stream",
          "name": "stdout",
          "text": [
            "+-------+------------+---------+----------+\n",
            "|   name|      number|first_num|second_num|\n",
            "+-------+------------+---------+----------+\n",
            "|anupama|[10, 20, 30]|       10|        20|\n",
            "|  akkki|[34, 44, 54]|       34|        44|\n",
            "+-------+------------+---------+----------+\n",
            "\n"
          ]
        }
      ]
    },
    {
      "cell_type": "code",
      "source": [
        "df11.withColumn(\"new_num\",array(df11.first_num,df11.second_num)).show()"
      ],
      "metadata": {
        "colab": {
          "base_uri": "https://localhost:8080/"
        },
        "id": "60gcgZ70YLHj",
        "outputId": "76e7af46-46cf-47e7-b39e-08b12f2aae78"
      },
      "execution_count": 46,
      "outputs": [
        {
          "output_type": "stream",
          "name": "stdout",
          "text": [
            "+-------+------------+---------+----------+--------+\n",
            "|   name|      number|first_num|second_num| new_num|\n",
            "+-------+------------+---------+----------+--------+\n",
            "|anupama|[10, 20, 30]|       10|        20|[10, 20]|\n",
            "|  akkki|[34, 44, 54]|       34|        44|[34, 44]|\n",
            "+-------+------------+---------+----------+--------+\n",
            "\n"
          ]
        }
      ]
    },
    {
      "cell_type": "code",
      "source": [
        "df1.withColumn(\"second_num\",col('number')[1]).show()"
      ],
      "metadata": {
        "colab": {
          "base_uri": "https://localhost:8080/"
        },
        "id": "0zIV4hWZVD45",
        "outputId": "61a17890-35d7-4ac7-d490-e63915d84593"
      },
      "execution_count": 27,
      "outputs": [
        {
          "output_type": "stream",
          "name": "stdout",
          "text": [
            "+-------+------------+----------+\n",
            "|   name|      number|second_num|\n",
            "+-------+------------+----------+\n",
            "|anupama|[10, 20, 30]|        20|\n",
            "|  akkki|[34, 44, 54]|        44|\n",
            "+-------+------------+----------+\n",
            "\n"
          ]
        }
      ]
    },
    {
      "cell_type": "code",
      "source": [
        "data1 = [(\"anupama\",[10,20,30]),(\"akkki\", [34,44,54])]\n",
        "schema1 = StructType([StructField(\"name\",StringType()),\\\n",
        "                     StructField(\"numbers\",ArrayType(IntegerType()))])"
      ],
      "metadata": {
        "id": "r_NojnbkVX2u"
      },
      "execution_count": 36,
      "outputs": []
    },
    {
      "cell_type": "code",
      "source": [
        "df2= spark.createDataFrame(data1,schema1)"
      ],
      "metadata": {
        "id": "aMX0o_AZVuuJ"
      },
      "execution_count": 37,
      "outputs": []
    },
    {
      "cell_type": "code",
      "source": [
        "df2.show()"
      ],
      "metadata": {
        "colab": {
          "base_uri": "https://localhost:8080/"
        },
        "id": "ronRzefwXM3j",
        "outputId": "c462ae70-35ec-4515-efc8-3f1ac2aaf2b5"
      },
      "execution_count": 38,
      "outputs": [
        {
          "output_type": "stream",
          "name": "stdout",
          "text": [
            "+-------+------------+\n",
            "|   name|     numbers|\n",
            "+-------+------------+\n",
            "|anupama|[10, 20, 30]|\n",
            "|  akkki|[34, 44, 54]|\n",
            "+-------+------------+\n",
            "\n"
          ]
        }
      ]
    },
    {
      "cell_type": "markdown",
      "source": [
        "Explode Function"
      ],
      "metadata": {
        "id": "zg1c6HMBaaP1"
      }
    },
    {
      "cell_type": "code",
      "source": [
        "data3 = [(1,\"anupama\",[\"Azure\",\"Python\"]),\n",
        "         (2,\"Akki\",[\"Azure\",\"Quality\"])]\n",
        "\n",
        "schema3 = [\"id\",\"name\",\"skills\"]"
      ],
      "metadata": {
        "id": "6vOmhnVsXOJn"
      },
      "execution_count": 47,
      "outputs": []
    },
    {
      "cell_type": "code",
      "source": [
        "df3= spark.createDataFrame(data3,schema3)"
      ],
      "metadata": {
        "id": "rLKjw_ldauB6"
      },
      "execution_count": 48,
      "outputs": []
    },
    {
      "cell_type": "code",
      "source": [
        "df33=df3.withColumn(\"Seperate Skills\",explode(col('skills')))"
      ],
      "metadata": {
        "id": "GgB7Wv4hazDd"
      },
      "execution_count": 51,
      "outputs": []
    },
    {
      "cell_type": "code",
      "source": [
        "df33.show()"
      ],
      "metadata": {
        "colab": {
          "base_uri": "https://localhost:8080/"
        },
        "id": "O9YUD1oMa9RU",
        "outputId": "d4bb9e55-cf2f-45fe-9537-38498d18aec0"
      },
      "execution_count": 52,
      "outputs": [
        {
          "output_type": "stream",
          "name": "stdout",
          "text": [
            "+---+-------+----------------+---------------+\n",
            "| id|   name|          skills|Seperate Skills|\n",
            "+---+-------+----------------+---------------+\n",
            "|  1|anupama| [Azure, Python]|          Azure|\n",
            "|  1|anupama| [Azure, Python]|         Python|\n",
            "|  2|   Akki|[Azure, Quality]|          Azure|\n",
            "|  2|   Akki|[Azure, Quality]|        Quality|\n",
            "+---+-------+----------------+---------------+\n",
            "\n"
          ]
        }
      ]
    },
    {
      "cell_type": "markdown",
      "source": [
        "Split Functions: Split the string and give Arraytype"
      ],
      "metadata": {
        "id": "FB-jVvmZbWOR"
      }
    },
    {
      "cell_type": "code",
      "source": [
        "data4 = [(1,\"anupama\",\"Azure,Python\"),\n",
        "         (2,\"Akki\",\"Azure,Quality\")]\n",
        "\n",
        "schema4 = [\"id\",\"name\",\"skills\"]"
      ],
      "metadata": {
        "id": "eNvFSaYta-VE"
      },
      "execution_count": 54,
      "outputs": []
    },
    {
      "cell_type": "code",
      "source": [
        "df4 =spark.createDataFrame(data4,schema4)\n",
        "df4.show()"
      ],
      "metadata": {
        "colab": {
          "base_uri": "https://localhost:8080/"
        },
        "id": "Bt1BZo0HbjEb",
        "outputId": "3602e9aa-0e92-4b43-fd1e-b1a5a8ed2d65"
      },
      "execution_count": 55,
      "outputs": [
        {
          "output_type": "stream",
          "name": "stdout",
          "text": [
            "+---+-------+-------------+\n",
            "| id|   name|       skills|\n",
            "+---+-------+-------------+\n",
            "|  1|anupama| Azure,Python|\n",
            "|  2|   Akki|Azure,Quality|\n",
            "+---+-------+-------------+\n",
            "\n"
          ]
        }
      ]
    },
    {
      "cell_type": "code",
      "source": [
        "df4.withColumn(\"spliSkills\",split(col('skills'),',')).show()"
      ],
      "metadata": {
        "colab": {
          "base_uri": "https://localhost:8080/"
        },
        "id": "n98OKmDacOTe",
        "outputId": "6dc25a1d-349f-4c5c-aa53-3e90c8bed25a"
      },
      "execution_count": 56,
      "outputs": [
        {
          "output_type": "stream",
          "name": "stdout",
          "text": [
            "+---+-------+-------------+----------------+\n",
            "| id|   name|       skills|      spliSkills|\n",
            "+---+-------+-------------+----------------+\n",
            "|  1|anupama| Azure,Python| [Azure, Python]|\n",
            "|  2|   Akki|Azure,Quality|[Azure, Quality]|\n",
            "+---+-------+-------------+----------------+\n",
            "\n"
          ]
        }
      ]
    },
    {
      "cell_type": "code",
      "source": [],
      "metadata": {
        "id": "k-vYDtOJcYsY"
      },
      "execution_count": null,
      "outputs": []
    }
  ]
}